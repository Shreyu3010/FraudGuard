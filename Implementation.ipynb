{
 "cells": [
  {
   "cell_type": "markdown",
   "id": "5a09dc69-c44f-4838-8ffc-1bd60f11ca65",
   "metadata": {},
   "source": [
    "# Fraud Detection Model - Complete Implementation"
   ]
  },
  {
   "cell_type": "markdown",
   "id": "00344462-d9bc-410f-b7fd-226a6c48044f",
   "metadata": {},
   "source": [
    "## Steps:\n",
    "1. Load and validate data\n",
    "2. Exploratory data analysis\n",
    "3. Feature engineering\n",
    "4. Handle class imbalance\n",
    "5. Train model\n",
    "6. Evaluate performance\n",
    "7. Generate insights and recommendations\n",
    "8. Save model and results"
   ]
  },
  {
   "cell_type": "code",
   "execution_count": 3,
   "id": "c5078790-8e17-40be-88c9-c5d2d1308a21",
   "metadata": {},
   "outputs": [],
   "source": [
    "import pandas as pd\n",
    "import numpy as np\n",
    "import matplotlib.pyplot as plt\n",
    "import seaborn as sns\n",
    "from sklearn.model_selection import train_test_split\n",
    "from sklearn.preprocessing import StandardScaler, LabelEncoder\n",
    "from sklearn.metrics import (\n",
    "    classification_report, confusion_matrix, roc_auc_score, \n",
    "    roc_curve, precision_recall_curve, average_precision_score,\n",
    "    f1_score, precision_score, recall_score\n",
    ")\n",
    "from imblearn.over_sampling import SMOTE\n",
    "import lightgbm as lgb\n",
    "import warnings\n",
    "import pickle\n",
    "from datetime import datetime\n",
    "\n",
    "warnings.filterwarnings('ignore')"
   ]
  },
  {
   "cell_type": "code",
   "execution_count": 5,
   "id": "62ff832b-d65b-44ce-891b-1ef7f73402c6",
   "metadata": {},
   "outputs": [
    {
     "name": "stdout",
     "output_type": "stream",
     "text": [
      "================================================================================\n",
      "FRAUD DETECTION MODEL - MEMORY OPTIMIZED ANALYSIS\n",
      "================================================================================\n",
      "\n"
     ]
    }
   ],
   "source": [
    "# Set style for visualizations\n",
    "sns.set_style(\"whitegrid\")\n",
    "plt.rcParams['figure.figsize'] = (12, 6)\n",
    "\n",
    "print(\"=\"*80)\n",
    "print(\"FRAUD DETECTION MODEL - MEMORY OPTIMIZED ANALYSIS\")\n",
    "print(\"=\"*80)\n",
    "print()\n"
   ]
  },
  {
   "cell_type": "markdown",
   "id": "114eeb1c-1ded-47dc-a39d-e08d6f9a087e",
   "metadata": {},
   "source": [
    "# STEP 1: LOAD AND VALIDATE DATA"
   ]
  },
  {
   "cell_type": "code",
   "execution_count": 9,
   "id": "eafdbf83-ef67-4454-bca4-9f3e7be1dd7c",
   "metadata": {},
   "outputs": [
    {
     "name": "stdout",
     "output_type": "stream",
     "text": [
      "STEP 1: Loading Data with Intelligent Chunked Processing\n",
      "--------------------------------------------------------------------------------\n",
      "Reading fraud.csv in chunks of 50,000 rows...\n",
      "Strategy: Keep ALL fraud cases + 5.0% of non-fraud cases\n",
      "\n",
      "  Processed 500,000 rows... (Fraud: 233, Non-fraud sampled: 24,986)\n",
      "  Processed 1,000,000 rows... (Fraud: 535, Non-fraud sampled: 49,965)\n",
      "  Processed 1,500,000 rows... (Fraud: 1,608, Non-fraud sampled: 74,907)\n",
      "  Processed 2,000,000 rows... (Fraud: 2,036, Non-fraud sampled: 99,880)\n",
      "  Processed 2,500,000 rows... (Fraud: 2,278, Non-fraud sampled: 124,864)\n",
      "  Processed 3,000,000 rows... (Fraud: 2,619, Non-fraud sampled: 149,842)\n",
      "  Processed 3,500,000 rows... (Fraud: 2,905, Non-fraud sampled: 174,823)\n",
      "  Processed 4,000,000 rows... (Fraud: 3,381, Non-fraud sampled: 199,796)\n",
      "  Processed 4,500,000 rows... (Fraud: 3,657, Non-fraud sampled: 224,778)\n",
      "  Processed 5,000,000 rows... (Fraud: 3,935, Non-fraud sampled: 249,760)\n",
      "  Processed 5,500,000 rows... (Fraud: 4,225, Non-fraud sampled: 274,741)\n",
      "  Processed 6,000,000 rows... (Fraud: 4,815, Non-fraud sampled: 299,708)\n",
      "\n",
      "✓ Completed processing 128 chunks (6,362,620 total rows)\n",
      "✓ Fraud cases found: 8,213\n",
      "✓ Non-fraud cases sampled: 317,664\n",
      "\n",
      "Combining sampled data...\n",
      "✓ Final dataset shape: 325,877 rows × 11 columns\n",
      "✓ Memory usage: 50.34 MB\n",
      "✓ Fraud rate in sample: 2.52%\n",
      "\n"
     ]
    }
   ],
   "source": [
    "print(\"STEP 1: Loading Data with Intelligent Chunked Processing\")\n",
    "print(\"-\" * 80)\n",
    "\n",
    "dtype_dict = {\n",
    "    'step': 'int32',\n",
    "    'type': 'category',\n",
    "    'amount': 'float32',\n",
    "    'nameOrig': 'object',\n",
    "    'oldbalanceOrg': 'float32',\n",
    "    'newbalanceOrig': 'float32',\n",
    "    'nameDest': 'object',\n",
    "    'oldbalanceDest': 'float32',\n",
    "    'newbalanceDest': 'float32',\n",
    "    'isFraud': 'int8',\n",
    "    'isFlaggedFraud': 'int8'\n",
    "}\n",
    "\n",
    "CHUNK_SIZE = 50000  # Process 50k rows at a time\n",
    "SAMPLE_RATE = 0.05  # Keep 5% of non-fraud cases from each chunk\n",
    "\n",
    "print(f\"Reading fraud.csv in chunks of {CHUNK_SIZE:,} rows...\")\n",
    "print(f\"Strategy: Keep ALL fraud cases + {SAMPLE_RATE*100}% of non-fraud cases\")\n",
    "print()\n",
    "\n",
    "try:\n",
    "    fraud_data = []\n",
    "    non_fraud_data = []\n",
    "    total_rows = 0\n",
    "    total_fraud = 0\n",
    "    total_non_fraud = 0\n",
    "    chunk_count = 0\n",
    "    \n",
    "    for chunk in pd.read_csv('fraud.csv', dtype=dtype_dict, chunksize=CHUNK_SIZE):\n",
    "        chunk_count += 1\n",
    "        total_rows += len(chunk)\n",
    "        \n",
    "        # Separate fraud and non-fraud cases\n",
    "        fraud_cases = chunk[chunk['isFraud'] == 1]\n",
    "        non_fraud_cases = chunk[chunk['isFraud'] == 0]\n",
    "        \n",
    "        # Keep all fraud cases\n",
    "        if len(fraud_cases) > 0:\n",
    "            fraud_data.append(fraud_cases)\n",
    "            total_fraud += len(fraud_cases)\n",
    "        \n",
    "        # Sample non-fraud cases to keep memory manageable\n",
    "        if len(non_fraud_cases) > 0:\n",
    "            sample_size = int(len(non_fraud_cases) * SAMPLE_RATE)\n",
    "            if sample_size > 0:\n",
    "                sampled_non_fraud = non_fraud_cases.sample(n=sample_size, random_state=42)\n",
    "                non_fraud_data.append(sampled_non_fraud)\n",
    "                total_non_fraud += sample_size\n",
    "        \n",
    "        # Progress update every 10 chunks\n",
    "        if chunk_count % 10 == 0:\n",
    "            print(f\"  Processed {total_rows:,} rows... (Fraud: {total_fraud:,}, Non-fraud sampled: {total_non_fraud:,})\")\n",
    "    \n",
    "    print(f\"\\n✓ Completed processing {chunk_count} chunks ({total_rows:,} total rows)\")\n",
    "    print(f\"✓ Fraud cases found: {total_fraud:,}\")\n",
    "    print(f\"✓ Non-fraud cases sampled: {total_non_fraud:,}\")\n",
    "    print()\n",
    "    \n",
    "    print(\"Combining sampled data...\")\n",
    "    df = pd.concat(fraud_data + non_fraud_data, ignore_index=True)\n",
    "    \n",
    "    # Shuffle the data\n",
    "    df = df.sample(frac=1, random_state=42).reset_index(drop=True)\n",
    "    \n",
    "    print(f\"✓ Final dataset shape: {df.shape[0]:,} rows × {df.shape[1]} columns\")\n",
    "    memory_usage = df.memory_usage(deep=True).sum() / 1024**2\n",
    "    print(f\"✓ Memory usage: {memory_usage:.2f} MB\")\n",
    "    print(f\"✓ Fraud rate in sample: {(df['isFraud'].sum() / len(df) * 100):.2f}%\")\n",
    "    print()\n",
    "    \n",
    "except FileNotFoundError:\n",
    "    print(\"✗ Error: fraud.csv not found in the current directory\")\n",
    "    print(\"  Please ensure fraud.csv is in the same folder as this script\")\n",
    "    exit(1)\n",
    "except Exception as e:\n",
    "    print(f\"✗ Error loading data: {str(e)}\")\n",
    "    exit(1)\n"
   ]
  },
  {
   "cell_type": "code",
   "execution_count": 11,
   "id": "621a95a3-b062-490d-93f2-1c8a6ee64aec",
   "metadata": {},
   "outputs": [
    {
     "name": "stdout",
     "output_type": "stream",
     "text": [
      "✓ All required columns present\n",
      "\n"
     ]
    }
   ],
   "source": [
    "# Validate required columns\n",
    "required_columns = ['step', 'type', 'amount', 'nameOrig', 'oldbalanceOrg', \n",
    "                   'newbalanceOrig', 'nameDest', 'oldbalanceDest', \n",
    "                   'newbalanceDest', 'isFraud', 'isFlaggedFraud']\n",
    "\n",
    "missing_cols = [col for col in required_columns if col not in df.columns]\n",
    "if missing_cols:\n",
    "    print(f\"✗ Error: Missing required columns: {missing_cols}\")\n",
    "    exit(1)\n",
    "\n",
    "print(f\"✓ All required columns present\")\n",
    "print()"
   ]
  },
  {
   "cell_type": "markdown",
   "id": "da7c80c9-4b19-4cc0-bad1-f59526890ad0",
   "metadata": {},
   "source": [
    "# STEP 2: EXPLORATORY DATA ANALYSIS"
   ]
  },
  {
   "cell_type": "code",
   "execution_count": 14,
   "id": "60067003-0d86-4585-a831-d07fb29730c3",
   "metadata": {},
   "outputs": [
    {
     "name": "stdout",
     "output_type": "stream",
     "text": [
      "STEP 2: Exploratory Data Analysis\n",
      "--------------------------------------------------------------------------------\n",
      "Dataset Overview:\n",
      "step                 int32\n",
      "type              category\n",
      "amount             float32\n",
      "nameOrig            object\n",
      "oldbalanceOrg      float32\n",
      "newbalanceOrig     float32\n",
      "nameDest            object\n",
      "oldbalanceDest     float32\n",
      "newbalanceDest     float32\n",
      "isFraud               int8\n",
      "isFlaggedFraud        int8\n",
      "dtype: object\n",
      "\n",
      "Statistical Summary:\n",
      "                step        amount  oldbalanceOrg  newbalanceOrig  \\\n",
      "count  325877.000000  3.258770e+05   3.258770e+05    3.258770e+05   \n",
      "mean      246.413269  2.094040e+05   8.588047e+05    8.445961e+05   \n",
      "std       145.834368  7.028110e+05   2.925558e+06    2.924694e+06   \n",
      "min         1.000000  0.000000e+00   0.000000e+00    0.000000e+00   \n",
      "25%       156.000000  1.386484e+04   0.000000e+00    0.000000e+00   \n",
      "50%       249.000000  7.824421e+04   1.575600e+04    0.000000e+00   \n",
      "75%       346.000000  2.158336e+05   1.221150e+05    1.343032e+05   \n",
      "max       743.000000  5.139182e+07   5.958504e+07    4.958504e+07   \n",
      "\n",
      "       oldbalanceDest  newbalanceDest        isFraud  isFlaggedFraud  \n",
      "count    3.258770e+05    3.258770e+05  325877.000000   325877.000000  \n",
      "mean     1.084271e+06    1.221336e+06       0.025203        0.000049  \n",
      "std      3.343788e+06    3.586946e+06       0.156741        0.007007  \n",
      "min      0.000000e+00    0.000000e+00       0.000000        0.000000  \n",
      "25%      0.000000e+00    0.000000e+00       0.000000        0.000000  \n",
      "50%      1.232198e+05    2.119284e+05       0.000000        0.000000  \n",
      "75%      9.233074e+05    1.115251e+06       0.000000        0.000000  \n",
      "max      2.754052e+08    2.752770e+08       1.000000        1.000000  \n",
      "\n"
     ]
    }
   ],
   "source": [
    "print(\"STEP 2: Exploratory Data Analysis\")\n",
    "print(\"-\" * 80)\n",
    "\n",
    "print(\"Dataset Overview:\")\n",
    "print(df.dtypes)\n",
    "print()\n",
    "\n",
    "print(\"Statistical Summary:\")\n",
    "print(df.describe())\n",
    "print()"
   ]
  },
  {
   "cell_type": "code",
   "execution_count": 16,
   "id": "6cac2bd1-fc72-4289-9cf0-a90c90785f2a",
   "metadata": {},
   "outputs": [
    {
     "name": "stdout",
     "output_type": "stream",
     "text": [
      "✓ No missing values detected\n",
      "\n"
     ]
    }
   ],
   "source": [
    "# Check for missing values\n",
    "missing_values = df.isnull().sum()\n",
    "if missing_values.sum() > 0:\n",
    "    print(\"Missing Values:\")\n",
    "    print(missing_values[missing_values > 0])\n",
    "    print()\n",
    "else:\n",
    "    print(\"✓ No missing values detected\")\n",
    "    print()"
   ]
  },
  {
   "cell_type": "code",
   "execution_count": 18,
   "id": "d7924cca-63d4-45e9-af3f-a7b3a0f734ca",
   "metadata": {},
   "outputs": [
    {
     "name": "stdout",
     "output_type": "stream",
     "text": [
      "Fraud Distribution in Sample:\n",
      "  Non-Fraud: 317,664 (97.48%)\n",
      "  Fraud:     8,213 (2.52%)\n",
      "  Imbalance Ratio: 1:38.7\n",
      "\n"
     ]
    }
   ],
   "source": [
    "# Fraud distribution\n",
    "fraud_counts = df['isFraud'].value_counts()\n",
    "fraud_rate = (fraud_counts[1] / len(df)) * 100\n",
    "print(f\"Fraud Distribution in Sample:\")\n",
    "print(f\"  Non-Fraud: {fraud_counts[0]:,} ({100-fraud_rate:.2f}%)\")\n",
    "print(f\"  Fraud:     {fraud_counts[1]:,} ({fraud_rate:.2f}%)\")\n",
    "print(f\"  Imbalance Ratio: 1:{fraud_counts[0]/fraud_counts[1]:.1f}\")\n",
    "print()"
   ]
  },
  {
   "cell_type": "code",
   "execution_count": 20,
   "id": "db53d263-ec81-4206-a67a-db4662938215",
   "metadata": {},
   "outputs": [
    {
     "name": "stdout",
     "output_type": "stream",
     "text": [
      "Fraud by Transaction Type:\n",
      "          Fraud_Count  Total_Count  Fraud_Rate\n",
      "type                                          \n",
      "CASH_IN             0        69880    0.000000\n",
      "CASH_OUT         4116       115945    3.549959\n",
      "DEBIT               0         2098    0.000000\n",
      "PAYMENT             0       107397    0.000000\n",
      "TRANSFER         4097        30557   13.407730\n",
      "\n"
     ]
    }
   ],
   "source": [
    "# Fraud by transaction type\n",
    "print(\"Fraud by Transaction Type:\")\n",
    "fraud_by_type = df.groupby('type')['isFraud'].agg(['sum', 'count', 'mean'])\n",
    "fraud_by_type.columns = ['Fraud_Count', 'Total_Count', 'Fraud_Rate']\n",
    "fraud_by_type['Fraud_Rate'] = fraud_by_type['Fraud_Rate'] * 100\n",
    "print(fraud_by_type)\n",
    "print()"
   ]
  },
  {
   "cell_type": "code",
   "execution_count": 22,
   "id": "9a618fd1-321e-4d6a-bad9-b1e1a2591cb0",
   "metadata": {},
   "outputs": [
    {
     "name": "stdout",
     "output_type": "stream",
     "text": [
      "✓ Key Finding: Fraud only occurs in CASH_OUT, TRANSFER transactions\n",
      "\n"
     ]
    }
   ],
   "source": [
    "# Key insight\n",
    "fraud_types = df[df['isFraud'] == 1]['type'].unique()\n",
    "print(f\"✓ Key Finding: Fraud only occurs in {', '.join(fraud_types)} transactions\")\n",
    "print()"
   ]
  },
  {
   "cell_type": "markdown",
   "id": "760b194a-06d4-42ce-ae1a-a16e9dc5062b",
   "metadata": {},
   "source": [
    "# STEP 3: FEATURE ENGINEERING"
   ]
  },
  {
   "cell_type": "code",
   "execution_count": 25,
   "id": "de9a7a21-eebe-49fd-930f-973fc66df8f7",
   "metadata": {},
   "outputs": [
    {
     "name": "stdout",
     "output_type": "stream",
     "text": [
      "STEP 3: Feature Engineering\n",
      "--------------------------------------------------------------------------------\n",
      "Dropping unnecessary columns...\n"
     ]
    }
   ],
   "source": [
    "print(\"STEP 3: Feature Engineering\")\n",
    "print(\"-\" * 80)\n",
    "\n",
    "print(\"Dropping unnecessary columns...\")\n",
    "df = df.drop(['nameOrig', 'nameDest', 'isFlaggedFraud'], axis=1)"
   ]
  },
  {
   "cell_type": "code",
   "execution_count": 27,
   "id": "826688dc-e9f3-4a58-b973-3e992700e02b",
   "metadata": {},
   "outputs": [
    {
     "name": "stdout",
     "output_type": "stream",
     "text": [
      "✓ Encoded transaction types: {0: 'CASH_IN', 1: 'CASH_OUT', 2: 'DEBIT', 3: 'PAYMENT', 4: 'TRANSFER'}\n",
      "Creating engineered features...\n"
     ]
    }
   ],
   "source": [
    "# Encode transaction type\n",
    "le = LabelEncoder()\n",
    "df['type_encoded'] = le.fit_transform(df['type']).astype('int8')\n",
    "print(f\"✓ Encoded transaction types: {dict(enumerate(le.classes_))}\")\n",
    "\n",
    "print(\"Creating engineered features...\")"
   ]
  },
  {
   "cell_type": "code",
   "execution_count": 29,
   "id": "877fbbc6-06c3-4e8a-a70f-8dd4c20780e7",
   "metadata": {},
   "outputs": [],
   "source": [
    "# Balance change features\n",
    "df['balance_change_orig'] = (df['oldbalanceOrg'] - df['newbalanceOrig']).astype('float32')\n",
    "df['balance_change_dest'] = (df['newbalanceDest'] - df['oldbalanceDest']).astype('float32')"
   ]
  },
  {
   "cell_type": "code",
   "execution_count": 31,
   "id": "8d432289-45ff-40c3-b78b-6d1cf60d4291",
   "metadata": {},
   "outputs": [],
   "source": [
    "# Balance inconsistency detection (key fraud indicator)\n",
    "df['balance_inconsistency_orig'] = (\n",
    "    (df['balance_change_orig'] - df['amount']).abs()\n",
    ").astype('float32')\n",
    "df['balance_inconsistency_dest'] = (\n",
    "    (df['balance_change_dest'] - df['amount']).abs()\n",
    ").astype('float32')"
   ]
  },
  {
   "cell_type": "code",
   "execution_count": 33,
   "id": "c8b883a0-03e8-4a58-9121-aa90242bf465",
   "metadata": {},
   "outputs": [],
   "source": [
    "# Zero balance flags\n",
    "df['orig_zero_balance_after'] = (df['newbalanceOrig'] == 0).astype('int8')\n",
    "df['dest_zero_balance_before'] = (df['oldbalanceDest'] == 0).astype('int8')"
   ]
  },
  {
   "cell_type": "code",
   "execution_count": 35,
   "id": "4acac0fa-e8bf-495b-b98b-c50c1afdbb7a",
   "metadata": {},
   "outputs": [],
   "source": [
    "# Balance ratios\n",
    "df['amount_to_orig_balance_ratio'] = (df['amount'] / (df['oldbalanceOrg'] + 1)).astype('float32')\n",
    "df['amount_to_dest_balance_ratio'] = (df['amount'] / (df['oldbalanceDest'] + 1)).astype('float32')"
   ]
  },
  {
   "cell_type": "code",
   "execution_count": 37,
   "id": "554f3bb6-106f-4035-8b8a-50db4085201f",
   "metadata": {},
   "outputs": [
    {
     "name": "stdout",
     "output_type": "stream",
     "text": [
      "✓ Created engineered features\n",
      "✓ Current memory usage: 16.47 MB\n",
      "\n"
     ]
    }
   ],
   "source": [
    "# Transaction size categories\n",
    "amount_95th = df['amount'].quantile(0.95)\n",
    "df['is_large_transaction'] = (df['amount'] > amount_95th).astype('int8')\n",
    "\n",
    "df = df.drop(['type'], axis=1)\n",
    "\n",
    "print(f\"✓ Created engineered features\")\n",
    "print(f\"✓ Current memory usage: {df.memory_usage(deep=True).sum() / 1024**2:.2f} MB\")\n",
    "print()"
   ]
  },
  {
   "cell_type": "code",
   "execution_count": 39,
   "id": "fcbb7b31-7b2a-4bda-8895-e78eadba7f65",
   "metadata": {},
   "outputs": [
    {
     "name": "stdout",
     "output_type": "stream",
     "text": [
      "Features for modeling (16 total):\n",
      "   1. step\n",
      "   2. type_encoded\n",
      "   3. amount\n",
      "   4. oldbalanceOrg\n",
      "   5. newbalanceOrig\n",
      "   6. oldbalanceDest\n",
      "   7. newbalanceDest\n",
      "   8. balance_change_orig\n",
      "   9. balance_change_dest\n",
      "  10. balance_inconsistency_orig\n",
      "  11. balance_inconsistency_dest\n",
      "  12. orig_zero_balance_after\n",
      "  13. dest_zero_balance_before\n",
      "  14. amount_to_orig_balance_ratio\n",
      "  15. amount_to_dest_balance_ratio\n",
      "  16. is_large_transaction\n",
      "\n"
     ]
    }
   ],
   "source": [
    "# Feature list for modeling\n",
    "feature_columns = [\n",
    "    'step', 'type_encoded', 'amount',\n",
    "    'oldbalanceOrg', 'newbalanceOrig', 'oldbalanceDest', 'newbalanceDest',\n",
    "    'balance_change_orig', 'balance_change_dest',\n",
    "    'balance_inconsistency_orig', 'balance_inconsistency_dest',\n",
    "    'orig_zero_balance_after', 'dest_zero_balance_before',\n",
    "    'amount_to_orig_balance_ratio', 'amount_to_dest_balance_ratio',\n",
    "    'is_large_transaction'\n",
    "]\n",
    "\n",
    "print(f\"Features for modeling ({len(feature_columns)} total):\")\n",
    "for i, feat in enumerate(feature_columns, 1):\n",
    "    print(f\"  {i:2d}. {feat}\")\n",
    "print()"
   ]
  },
  {
   "cell_type": "markdown",
   "id": "d7992846-bd83-4c4c-bf45-6b4ecdff63e1",
   "metadata": {},
   "source": [
    "# STEP 4: PREPARE DATA AND HANDLE CLASS IMBALANCE"
   ]
  },
  {
   "cell_type": "code",
   "execution_count": 42,
   "id": "43db9336-6028-4f1e-a7d2-02185d684c85",
   "metadata": {},
   "outputs": [
    {
     "name": "stdout",
     "output_type": "stream",
     "text": [
      "STEP 4: Preparing Data and Handling Class Imbalance\n",
      "--------------------------------------------------------------------------------\n",
      "✓ Feature matrix shape: (325877, 16)\n",
      "✓ Target distribution: {0: 317664, 1: 8213}\n",
      "\n"
     ]
    }
   ],
   "source": [
    "print(\"STEP 4: Preparing Data and Handling Class Imbalance\")\n",
    "print(\"-\" * 80)\n",
    "\n",
    "# Prepare features and target\n",
    "X = df[feature_columns].copy()\n",
    "y = df['isFraud'].copy()\n",
    "\n",
    "# Handle infinite values and NaNs\n",
    "X = X.replace([np.inf, -np.inf], 0)\n",
    "X = X.fillna(0)\n",
    "\n",
    "print(f\"✓ Feature matrix shape: {X.shape}\")\n",
    "print(f\"✓ Target distribution: {y.value_counts().to_dict()}\")\n",
    "print()"
   ]
  },
  {
   "cell_type": "code",
   "execution_count": 44,
   "id": "06603948-9a7d-4561-b36f-e0cb348c208f",
   "metadata": {},
   "outputs": [
    {
     "name": "stdout",
     "output_type": "stream",
     "text": [
      "✓ Train set: 260,701 samples\n",
      "✓ Test set:  65,176 samples\n",
      "\n"
     ]
    }
   ],
   "source": [
    "# Split data\n",
    "test_size = 0.2\n",
    "X_train, X_test, y_train, y_test = train_test_split(\n",
    "    X, y, test_size=test_size, random_state=42, stratify=y\n",
    ")\n",
    "\n",
    "print(f\"✓ Train set: {X_train.shape[0]:,} samples\")\n",
    "print(f\"✓ Test set:  {X_test.shape[0]:,} samples\")\n",
    "print()"
   ]
  },
  {
   "cell_type": "code",
   "execution_count": 46,
   "id": "7422cc9b-a075-401d-b51c-f8eb035b88c8",
   "metadata": {},
   "outputs": [
    {
     "name": "stdout",
     "output_type": "stream",
     "text": [
      "✓ Features scaled using StandardScaler\n",
      "\n"
     ]
    }
   ],
   "source": [
    "# Scale features\n",
    "scaler = StandardScaler()\n",
    "X_train_scaled = scaler.fit_transform(X_train)\n",
    "X_test_scaled = scaler.transform(X_test)\n",
    "print(f\"✓ Features scaled using StandardScaler\")\n",
    "print()"
   ]
  },
  {
   "cell_type": "code",
   "execution_count": 48,
   "id": "d3c72e99-c6a7-4476-8cb5-47d0ecfc27f5",
   "metadata": {},
   "outputs": [
    {
     "name": "stdout",
     "output_type": "stream",
     "text": [
      "Applying SMOTE to balance classes...\n",
      "✓ Original training set: {0: 254131, 1: 6570}\n",
      "✓ Balanced training set: {0: 254131, 1: 254131}\n",
      "\n"
     ]
    }
   ],
   "source": [
    "# Apply SMOTE to balance classes\n",
    "print(\"Applying SMOTE to balance classes...\")\n",
    "fraud_count = y_train.sum()\n",
    "k_neighbors = min(5, fraud_count - 1)\n",
    "\n",
    "smote = SMOTE(random_state=42, k_neighbors=k_neighbors)\n",
    "X_train_balanced, y_train_balanced = smote.fit_resample(X_train_scaled, y_train)\n",
    "\n",
    "print(f\"✓ Original training set: {y_train.value_counts().to_dict()}\")\n",
    "print(f\"✓ Balanced training set: {pd.Series(y_train_balanced).value_counts().to_dict()}\")\n",
    "print()"
   ]
  },
  {
   "cell_type": "markdown",
   "id": "3ad2ec62-6dca-47f9-b245-d0f3e7448a44",
   "metadata": {},
   "source": [
    "# STEP 5: TRAIN MODEL"
   ]
  },
  {
   "cell_type": "code",
   "execution_count": 51,
   "id": "edeede25-00a4-4134-890a-4f12e0dad7b8",
   "metadata": {},
   "outputs": [
    {
     "name": "stdout",
     "output_type": "stream",
     "text": [
      "STEP 5: Training LightGBM Model\n",
      "--------------------------------------------------------------------------------\n",
      "Training model...\n",
      "✓ Model training complete\n",
      "\n"
     ]
    }
   ],
   "source": [
    "print(\"STEP 5: Training LightGBM Model\")\n",
    "print(\"-\" * 80)\n",
    "\n",
    "# Train LightGBM model\n",
    "model = lgb.LGBMClassifier(\n",
    "    n_estimators=200,\n",
    "    learning_rate=0.05,\n",
    "    max_depth=7,\n",
    "    num_leaves=31,\n",
    "    random_state=42,\n",
    "    n_jobs=-1,\n",
    "    verbose=-1\n",
    ")\n",
    "\n",
    "print(\"Training model...\")\n",
    "model.fit(X_train_balanced, y_train_balanced)\n",
    "print(f\"✓ Model training complete\")\n",
    "print()"
   ]
  },
  {
   "cell_type": "markdown",
   "id": "e52aedfc-174a-43d1-b473-0e4b630b825c",
   "metadata": {},
   "source": [
    "# STEP 6: EVALUATE MODEL PERFORMANCE"
   ]
  },
  {
   "cell_type": "code",
   "execution_count": 54,
   "id": "10c68913-4eef-4015-93db-eff6760dc604",
   "metadata": {},
   "outputs": [
    {
     "name": "stdout",
     "output_type": "stream",
     "text": [
      "STEP 6: Evaluating Model Performance\n",
      "--------------------------------------------------------------------------------\n"
     ]
    }
   ],
   "source": [
    "print(\"STEP 6: Evaluating Model Performance\")\n",
    "print(\"-\" * 80)\n",
    "\n",
    "# Predictions\n",
    "y_pred = model.predict(X_test_scaled)\n",
    "y_pred_proba = model.predict_proba(X_test_scaled)[:, 1]"
   ]
  },
  {
   "cell_type": "code",
   "execution_count": 56,
   "id": "69d3289c-655e-40eb-895c-9b1101526a41",
   "metadata": {},
   "outputs": [
    {
     "name": "stdout",
     "output_type": "stream",
     "text": [
      "Model Performance Metrics:\n",
      "  Accuracy:          0.9998\n",
      "  Precision:         0.9939\n",
      "  Recall:            0.9970\n",
      "  F1-Score:          0.9954\n",
      "  ROC-AUC:           0.9998\n",
      "  Average Precision: 0.9987\n",
      "\n"
     ]
    }
   ],
   "source": [
    "# Calculate metrics\n",
    "accuracy = (y_pred == y_test).mean()\n",
    "precision = precision_score(y_test, y_pred)\n",
    "recall = recall_score(y_test, y_pred)\n",
    "f1 = f1_score(y_test, y_pred)\n",
    "roc_auc = roc_auc_score(y_test, y_pred_proba)\n",
    "avg_precision = average_precision_score(y_test, y_pred_proba)\n",
    "\n",
    "print(\"Model Performance Metrics:\")\n",
    "print(f\"  Accuracy:          {accuracy:.4f}\")\n",
    "print(f\"  Precision:         {precision:.4f}\")\n",
    "print(f\"  Recall:            {recall:.4f}\")\n",
    "print(f\"  F1-Score:          {f1:.4f}\")\n",
    "print(f\"  ROC-AUC:           {roc_auc:.4f}\")\n",
    "print(f\"  Average Precision: {avg_precision:.4f}\")\n",
    "print()\n"
   ]
  },
  {
   "cell_type": "code",
   "execution_count": 58,
   "id": "67ddf149-b7bc-43db-9615-391ad1d0a383",
   "metadata": {},
   "outputs": [
    {
     "name": "stdout",
     "output_type": "stream",
     "text": [
      "Confusion Matrix:\n",
      "                Predicted\n",
      "                No    Yes\n",
      "Actual No     63523     10\n",
      "Actual Yes        5   1638\n",
      "\n"
     ]
    }
   ],
   "source": [
    "# Confusion Matrix\n",
    "cm = confusion_matrix(y_test, y_pred)\n",
    "print(\"Confusion Matrix:\")\n",
    "print(f\"                Predicted\")\n",
    "print(f\"                No    Yes\")\n",
    "print(f\"Actual No    {cm[0,0]:6d} {cm[0,1]:6d}\")\n",
    "print(f\"Actual Yes   {cm[1,0]:6d} {cm[1,1]:6d}\")\n",
    "print()"
   ]
  },
  {
   "cell_type": "code",
   "execution_count": 60,
   "id": "dbddda30-0900-4526-868c-c8c8ecf2eec3",
   "metadata": {},
   "outputs": [
    {
     "name": "stdout",
     "output_type": "stream",
     "text": [
      "Detailed Classification Report:\n",
      "              precision    recall  f1-score   support\n",
      "\n",
      "   Non-Fraud       1.00      1.00      1.00     63533\n",
      "       Fraud       0.99      1.00      1.00      1643\n",
      "\n",
      "    accuracy                           1.00     65176\n",
      "   macro avg       1.00      1.00      1.00     65176\n",
      "weighted avg       1.00      1.00      1.00     65176\n",
      "\n",
      "\n"
     ]
    }
   ],
   "source": [
    "# Classification Report\n",
    "print(\"Detailed Classification Report:\")\n",
    "print(classification_report(y_test, y_pred, target_names=['Non-Fraud', 'Fraud']))\n",
    "print()"
   ]
  },
  {
   "cell_type": "markdown",
   "id": "c4f3221a-2531-4dd6-a641-12617b429a69",
   "metadata": {},
   "source": [
    "# STEP 7: FEATURE IMPORTANCE ANALYSIS"
   ]
  },
  {
   "cell_type": "code",
   "execution_count": 63,
   "id": "d8054e62-6834-448b-8139-d49183519f96",
   "metadata": {},
   "outputs": [
    {
     "name": "stdout",
     "output_type": "stream",
     "text": [
      "STEP 7: Feature Importance Analysis\n",
      "--------------------------------------------------------------------------------\n",
      "Top 10 Most Important Features:\n",
      "  amount_to_orig_balance_ratio          959.00\n",
      "  amount_to_dest_balance_ratio          732.00\n",
      "  step                                  601.00\n",
      "  balance_inconsistency_orig            577.00\n",
      "  balance_change_orig                   569.00\n",
      "  balance_inconsistency_dest            480.00\n",
      "  amount                                405.00\n",
      "  oldbalanceOrg                         327.00\n",
      "  type_encoded                          303.00\n",
      "  newbalanceDest                        303.00\n",
      "\n"
     ]
    }
   ],
   "source": [
    "print(\"STEP 7: Feature Importance Analysis\")\n",
    "print(\"-\" * 80)\n",
    "\n",
    "# Get feature importance\n",
    "feature_importance = pd.DataFrame({\n",
    "    'feature': feature_columns,\n",
    "    'importance': model.feature_importances_\n",
    "}).sort_values('importance', ascending=False)\n",
    "\n",
    "print(\"Top 10 Most Important Features:\")\n",
    "for idx, row in feature_importance.head(10).iterrows():\n",
    "    print(f\"  {row['feature']:35s} {row['importance']:8.2f}\")\n",
    "print()"
   ]
  },
  {
   "cell_type": "markdown",
   "id": "f401d88e-97be-40c4-8c27-e0e25252f092",
   "metadata": {},
   "source": [
    "# STEP 8: GENERATE VISUALIZATIONS"
   ]
  },
  {
   "cell_type": "code",
   "execution_count": 66,
   "id": "32e34176-21db-436c-8f06-b232840ebb52",
   "metadata": {},
   "outputs": [
    {
     "name": "stdout",
     "output_type": "stream",
     "text": [
      "STEP 8: Generating Visualizations\n",
      "--------------------------------------------------------------------------------\n"
     ]
    },
    {
     "data": {
      "text/plain": [
       "<Figure size 2000x1200 with 0 Axes>"
      ]
     },
     "metadata": {},
     "output_type": "display_data"
    }
   ],
   "source": [
    "print(\"STEP 8: Generating Visualizations\")\n",
    "print(\"-\" * 80)\n",
    "\n",
    "# Create figure with subplots\n",
    "fig = plt.figure(figsize=(20, 12))"
   ]
  },
  {
   "cell_type": "code",
   "execution_count": 68,
   "id": "8746d4ce-0ae3-4458-887e-ffd2557bd7d1",
   "metadata": {},
   "outputs": [
    {
     "data": {
      "text/plain": [
       "Text(0.5, 290.72222222222223, 'Predicted')"
      ]
     },
     "execution_count": 68,
     "metadata": {},
     "output_type": "execute_result"
    },
    {
     "data": {
      "image/png": "[encoded data removed]",
      "text/plain": [
       "<Figure size 1200x600 with 1 Axes>"
      ]
     },
     "metadata": {},
     "output_type": "display_data"
    }
   ],
   "source": [
    "# 1. Confusion Matrix Heatmap\n",
    "ax1 = plt.subplot(2, 3, 1)\n",
    "sns.heatmap(cm, annot=True, fmt='d', cmap='Blues', cbar=False)\n",
    "plt.title('Confusion Matrix', fontsize=14, fontweight='bold')\n",
    "plt.ylabel('Actual')\n",
    "plt.xlabel('Predicted')"
   ]
  },
  {
   "cell_type": "code",
   "execution_count": 70,
   "id": "833d909c-3044-4892-8ee5-dd3e4937319a",
   "metadata": {},
   "outputs": [
    {
     "data": {
      "image/png": "[encoded data removed]",
      "text/plain": [
       "<Figure size 1200x600 with 1 Axes>"
      ]
     },
     "metadata": {},
     "output_type": "display_data"
    }
   ],
   "source": [
    "# 2. ROC Curve\n",
    "ax2 = plt.subplot(2, 3, 2)\n",
    "fpr, tpr, _ = roc_curve(y_test, y_pred_proba)\n",
    "plt.plot(fpr, tpr, linewidth=2, label=f'ROC (AUC = {roc_auc:.4f})')\n",
    "plt.plot([0, 1], [0, 1], 'k--', linewidth=1, label='Random')\n",
    "plt.xlabel('False Positive Rate')\n",
    "plt.ylabel('True Positive Rate')\n",
    "plt.title('ROC Curve', fontsize=14, fontweight='bold')\n",
    "plt.legend()\n",
    "plt.grid(True, alpha=0.3)"
   ]
  },
  {
   "cell_type": "code",
   "execution_count": 72,
   "id": "14deb9e5-da75-4349-baed-e4bbcd9c3e48",
   "metadata": {},
   "outputs": [
    {
     "data": {
      "image/png": "[encoded data removed]",
      "text/plain": [
       "<Figure size 1200x600 with 1 Axes>"
      ]
     },
     "metadata": {},
     "output_type": "display_data"
    }
   ],
   "source": [
    "# 3. Precision-Recall Curve\n",
    "ax3 = plt.subplot(2, 3, 3)\n",
    "precision_curve, recall_curve, _ = precision_recall_curve(y_test, y_pred_proba)\n",
    "plt.plot(recall_curve, precision_curve, linewidth=2, label=f'PR (AP = {avg_precision:.4f})')\n",
    "plt.xlabel('Recall')\n",
    "plt.ylabel('Precision')\n",
    "plt.title('Precision-Recall Curve', fontsize=14, fontweight='bold')\n",
    "plt.legend()\n",
    "plt.grid(True, alpha=0.3)"
   ]
  },
  {
   "cell_type": "code",
   "execution_count": 74,
   "id": "cc6bdddc-aa22-432e-ab64-8ed3ea6a4cbf",
   "metadata": {},
   "outputs": [
    {
     "data": {
      "image/png": "[encoded data removed]",
      "text/plain": [
       "<Figure size 1200x600 with 1 Axes>"
      ]
     },
     "metadata": {},
     "output_type": "display_data"
    }
   ],
   "source": [
    "# 4. Feature Importance\n",
    "ax4 = plt.subplot(2, 3, 4)\n",
    "top_features = feature_importance.head(10)\n",
    "plt.barh(range(len(top_features)), top_features['importance'])\n",
    "plt.yticks(range(len(top_features)), top_features['feature'])\n",
    "plt.xlabel('Importance')\n",
    "plt.title('Top 10 Feature Importance', fontsize=14, fontweight='bold')\n",
    "plt.gca().invert_yaxis()"
   ]
  },
  {
   "cell_type": "code",
   "execution_count": 76,
   "id": "df23bff1-46d4-4d08-b440-712835629986",
   "metadata": {},
   "outputs": [
    {
     "data": {
      "text/plain": [
       "([0, 1, 2, 3, 4],\n",
       " [Text(0, 0, 'CASH_IN'),\n",
       "  Text(1, 0, 'CASH_OUT'),\n",
       "  Text(2, 0, 'DEBIT'),\n",
       "  Text(3, 0, 'PAYMENT'),\n",
       "  Text(4, 0, 'TRANSFER')])"
      ]
     },
     "execution_count": 76,
     "metadata": {},
     "output_type": "execute_result"
    },
    {
     "data": {
      "image/png": "[encoded data removed]",
      "text/plain": [
       "<Figure size 1200x600 with 1 Axes>"
      ]
     },
     "metadata": {},
     "output_type": "display_data"
    }
   ],
   "source": [
    "# 5. Fraud by Transaction Type\n",
    "ax5 = plt.subplot(2, 3, 5)\n",
    "fraud_type_data = fraud_by_type.copy()\n",
    "colors = ['red' if x > 0 else 'green' for x in fraud_type_data['Fraud_Count']]\n",
    "plt.bar(fraud_type_data.index, fraud_type_data['Fraud_Rate'], color=colors, alpha=0.7)\n",
    "plt.xlabel('Transaction Type')\n",
    "plt.ylabel('Fraud Rate (%)')\n",
    "plt.title('Fraud Rate by Transaction Type', fontsize=14, fontweight='bold')\n",
    "plt.xticks(rotation=45)"
   ]
  },
  {
   "cell_type": "code",
   "execution_count": 78,
   "id": "d97d1246-5371-42a4-a754-de7fbd8ffb9c",
   "metadata": {},
   "outputs": [
    {
     "name": "stdout",
     "output_type": "stream",
     "text": [
      "✓ Saved visualization: fraud_detection_results.png\n",
      "\n"
     ]
    },
    {
     "data": {
      "image/png": "[encoded data removed]",
      "text/plain": [
       "<Figure size 1200x600 with 1 Axes>"
      ]
     },
     "metadata": {},
     "output_type": "display_data"
    }
   ],
   "source": [
    "# 6. Prediction Score Distribution\n",
    "ax6 = plt.subplot(2, 3, 6)\n",
    "fraud_scores = y_pred_proba[y_test == 1]\n",
    "normal_scores = y_pred_proba[y_test == 0]\n",
    "plt.hist(normal_scores, bins=50, alpha=0.5, label='Non-Fraud', color='green')\n",
    "plt.hist(fraud_scores, bins=50, alpha=0.5, label='Fraud', color='red')\n",
    "plt.xlabel('Fraud Probability Score')\n",
    "plt.ylabel('Frequency')\n",
    "plt.title('Prediction Score Distribution', fontsize=14, fontweight='bold')\n",
    "plt.legend()\n",
    "plt.yscale('log')\n",
    "\n",
    "plt.tight_layout()\n",
    "plt.savefig('fraud_detection_results.png', dpi=300, bbox_inches='tight')\n",
    "print(\"✓ Saved visualization: fraud_detection_results.png\")\n",
    "print()"
   ]
  },
  {
   "cell_type": "markdown",
   "id": "a6b2a23d-ec32-4a8d-b28e-f0894e111819",
   "metadata": {},
   "source": [
    "# STEP 9: BUSINESS INSIGHTS AND RECOMMENDATIONS"
   ]
  },
  {
   "cell_type": "code",
   "execution_count": 81,
   "id": "c315c986-f370-4f73-bfcb-6b3bbf166742",
   "metadata": {},
   "outputs": [
    {
     "name": "stdout",
     "output_type": "stream",
     "text": [
      "STEP 9: Business Insights and Recommendations\n",
      "================================================================================\n",
      "\n",
      "🔍 KEY FINDINGS:\n",
      "--------------------------------------------------------------------------------\n"
     ]
    }
   ],
   "source": [
    "print(\"STEP 9: Business Insights and Recommendations\")\n",
    "print(\"=\" * 80)\n",
    "\n",
    "print(\"\\n🔍 KEY FINDINGS:\")\n",
    "print(\"-\" * 80)"
   ]
  },
  {
   "cell_type": "code",
   "execution_count": 83,
   "id": "590e8f53-439f-4b45-b9e1-3a983cf65e3d",
   "metadata": {},
   "outputs": [
    {
     "name": "stdout",
     "output_type": "stream",
     "text": [
      "1. Fraud occurs ONLY in CASH_OUT and TRANSFER transactions\n",
      "   → Focus monitoring efforts on these transaction types\n"
     ]
    }
   ],
   "source": [
    "# Finding 1: Transaction types\n",
    "print(f\"1. Fraud occurs ONLY in {' and '.join(fraud_types)} transactions\")\n",
    "print(f\"   → Focus monitoring efforts on these transaction types\")"
   ]
  },
  {
   "cell_type": "code",
   "execution_count": 85,
   "id": "aa5ce3fe-5b6d-49ef-ac8d-1c7bdb33ea08",
   "metadata": {},
   "outputs": [
    {
     "name": "stdout",
     "output_type": "stream",
     "text": [
      "\n",
      "2. Most important fraud indicator: amount_to_orig_balance_ratio\n",
      "   → Transactions with balance inconsistencies are highly suspicious\n"
     ]
    }
   ],
   "source": [
    "# Finding 2: Balance inconsistencies\n",
    "top_feature = feature_importance.iloc[0]['feature']\n",
    "print(f\"\\n2. Most important fraud indicator: {top_feature}\")\n",
    "print(f\"   → Transactions with balance inconsistencies are highly suspicious\")"
   ]
  },
  {
   "cell_type": "code",
   "execution_count": 87,
   "id": "2e0ef11b-c8ac-4fcc-91a2-f6c0df8c6299",
   "metadata": {},
   "outputs": [
    {
     "name": "stdout",
     "output_type": "stream",
     "text": [
      "\n",
      "3. Model achieves 99.7% fraud detection rate with 99.4% precision\n",
      "   → Can catch 99.7% of fraud while minimizing false alarms\n"
     ]
    }
   ],
   "source": [
    "# Finding 3: Model performance\n",
    "print(f\"\\n3. Model achieves {recall*100:.1f}% fraud detection rate with {precision*100:.1f}% precision\")\n",
    "print(f\"   → Can catch {recall*100:.1f}% of fraud while minimizing false alarms\")"
   ]
  },
  {
   "cell_type": "code",
   "execution_count": 91,
   "id": "22b12f96-8c39-46bc-b026-c763e4f79e44",
   "metadata": {},
   "outputs": [
    {
     "name": "stdout",
     "output_type": "stream",
     "text": [
      "\n",
      "4. False positive rate: 0.0157%\n",
      "   → Very low impact on legitimate transactions\n",
      "\n",
      "\n",
      "💡 RECOMMENDATIONS:\n",
      "--------------------------------------------------------------------------------\n",
      "1. Real-time Monitoring: Deploy this model for real-time fraud scoring\n",
      "2. Risk Tiers: Create risk categories (Low/Medium/High) based on fraud probability\n",
      "3. Manual Review: Flag transactions with >0.5 fraud probability for human review\n",
      "4. Balance Checks: Implement automatic balance consistency validation\n",
      "5. Transaction Limits: Set dynamic limits for TRANSFER and CASH_OUT operations\n",
      "6. Customer Alerts: Notify customers immediately for high-risk transactions\n",
      "7. Model Updates: Retrain model monthly with new fraud patterns\n",
      "8. A/B Testing: Test model in shadow mode before full deployment\n"
     ]
    }
   ],
   "source": [
    "# Finding 4: False positive rate\n",
    "fpr_rate = cm[0,1]/(cm[0,0]+cm[0,1])*100\n",
    "print(f\"\\n4. False positive rate: {fpr_rate:.4f}%\")\n",
    "print(f\"   → Very low impact on legitimate transactions\")\n",
    "\n",
    "print(\"\\n\\n💡 RECOMMENDATIONS:\")\n",
    "print(\"-\" * 80)\n",
    "recommendations = [\n",
    "    \"Real-time Monitoring: Deploy this model for real-time fraud scoring\",\n",
    "    \"Risk Tiers: Create risk categories (Low/Medium/High) based on fraud probability\",\n",
    "    \"Manual Review: Flag transactions with >0.5 fraud probability for human review\",\n",
    "    \"Balance Checks: Implement automatic balance consistency validation\",\n",
    "    \"Transaction Limits: Set dynamic limits for TRANSFER and CASH_OUT operations\",\n",
    "    \"Customer Alerts: Notify customers immediately for high-risk transactions\",\n",
    "    \"Model Updates: Retrain model monthly with new fraud patterns\",\n",
    "    \"A/B Testing: Test model in shadow mode before full deployment\"\n",
    "]\n",
    "\n",
    "for i, rec in enumerate(recommendations, 1):\n",
    "    print(f\"{i}. {rec}\")"
   ]
  },
  {
   "cell_type": "code",
   "execution_count": 93,
   "id": "bfbce391-c6e8-4709-9eb3-a31b11b0c840",
   "metadata": {},
   "outputs": [
    {
     "name": "stdout",
     "output_type": "stream",
     "text": [
      "\n",
      "\n",
      "📊 EXPECTED BUSINESS IMPACT:\n",
      "--------------------------------------------------------------------------------\n",
      "Fraud detection rate: 99.70%\n",
      "Precision: 99.39%\n",
      "False positive rate: 0.0157%\n",
      "F1-Score: 0.9954\n",
      "ROC-AUC: 0.9998\n",
      "\n"
     ]
    }
   ],
   "source": [
    "print(\"\\n\\n📊 EXPECTED BUSINESS IMPACT:\")\n",
    "print(\"-\" * 80)\n",
    "\n",
    "print(f\"Fraud detection rate: {recall*100:.2f}%\")\n",
    "print(f\"Precision: {precision*100:.2f}%\")\n",
    "print(f\"False positive rate: {fpr_rate:.4f}%\")\n",
    "print(f\"F1-Score: {f1:.4f}\")\n",
    "print(f\"ROC-AUC: {roc_auc:.4f}\")\n",
    "print()"
   ]
  },
  {
   "cell_type": "markdown",
   "id": "97bebfa7-5155-4cb4-bc25-e8b3f6c1ec8f",
   "metadata": {},
   "source": [
    "# STEP 10: SAVE MODEL AND ARTIFACTS"
   ]
  },
  {
   "cell_type": "code",
   "execution_count": 96,
   "id": "c5d347bd-96a9-4f0c-819c-0f62c0b170b5",
   "metadata": {},
   "outputs": [
    {
     "name": "stdout",
     "output_type": "stream",
     "text": [
      "STEP 10: Saving Model and Artifacts\n",
      "--------------------------------------------------------------------------------\n",
      "✓ Saved model: fraud_detection_model.pkl\n"
     ]
    }
   ],
   "source": [
    "print(\"STEP 10: Saving Model and Artifacts\")\n",
    "print(\"-\" * 80)\n",
    "\n",
    "# Save model\n",
    "model_filename = 'fraud_detection_model.pkl'\n",
    "with open(model_filename, 'wb') as f:\n",
    "    pickle.dump({\n",
    "        'model': model,\n",
    "        'scaler': scaler,\n",
    "        'feature_columns': feature_columns,\n",
    "        'label_encoder': le,\n",
    "        'metrics': {\n",
    "            'accuracy': accuracy,\n",
    "            'precision': precision,\n",
    "            'recall': recall,\n",
    "            'f1_score': f1,\n",
    "            'roc_auc': roc_auc\n",
    "        },\n",
    "        'trained_date': datetime.now().strftime('%Y-%m-%d %H:%M:%S')\n",
    "    }, f)\n",
    "\n",
    "print(f\"✓ Saved model: {model_filename}\")"
   ]
  },
  {
   "cell_type": "code",
   "execution_count": 98,
   "id": "cc0b8e90-79ff-4b0c-a720-3fcaf892dd9c",
   "metadata": {},
   "outputs": [
    {
     "name": "stdout",
     "output_type": "stream",
     "text": [
      "✓ Saved feature importance: feature_importance.csv\n"
     ]
    }
   ],
   "source": [
    "# Save feature importance\n",
    "feature_importance.to_csv('feature_importance.csv', index=False)\n",
    "print(f\"✓ Saved feature importance: feature_importance.csv\")"
   ]
  },
  {
   "cell_type": "code",
   "execution_count": 102,
   "id": "682f9d34-1971-4e8f-94b3-e52a48341f4a",
   "metadata": {},
   "outputs": [
    {
     "name": "stdout",
     "output_type": "stream",
     "text": [
      "✓ Saved predictions: predictions_sample.csv\n",
      "\n",
      "================================================================================\n",
      "ANALYSIS COMPLETE!\n",
      "================================================================================\n",
      "\n",
      "Generated Files:\n",
      "  1. fraud_detection_model.pkl    - Trained model for deployment\n",
      "  2. fraud_detection_results.png  - Comprehensive visualizations\n",
      "  3. feature_importance.csv       - Feature rankings\n",
      "  4. predictions_sample.csv       - Sample predictions\n",
      "\n",
      "Next Steps:\n",
      "  → Review the visualizations in fraud_detection_results.png\n",
      "  → Use the model file for production deployment\n",
      "  → Implement the recommendations listed above\n"
     ]
    }
   ],
   "source": [
    "# Save predictions sample\n",
    "results_df = pd.DataFrame({\n",
    "    'actual': y_test.values,\n",
    "    'predicted': y_pred,\n",
    "    'fraud_probability': y_pred_proba\n",
    "})\n",
    "results_df.to_csv('predictions_sample.csv', index=False)\n",
    "print(f\"✓ Saved predictions: predictions_sample.csv\")\n",
    "\n",
    "print()\n",
    "print(\"=\"*80)\n",
    "print(\"ANALYSIS COMPLETE!\")\n",
    "print(\"=\"*80)\n",
    "print(\"\\nGenerated Files:\")\n",
    "print(\"  1. fraud_detection_model.pkl    - Trained model for deployment\")\n",
    "print(\"  2. fraud_detection_results.png  - Comprehensive visualizations\")\n",
    "print(\"  3. feature_importance.csv       - Feature rankings\")\n",
    "print(\"  4. predictions_sample.csv       - Sample predictions\")\n",
    "print()\n",
    "print(\"Next Steps:\")\n",
    "print(\"  → Review the visualizations in fraud_detection_results.png\")\n",
    "print(\"  → Use the model file for production deployment\")\n",
    "print(\"  → Implement the recommendations listed above\")"
   ]
  },
  {
   "cell_type": "code",
   "execution_count": null,
   "id": "97bcb212-b1d9-48b6-a7ed-45367c63312a",
   "metadata": {},
   "outputs": [],
   "source": []
  }
 ],
 "metadata": {
  "kernelspec": {
   "display_name": "Python 3 (ipykernel)",
   "language": "python",
   "name": "python3"
  },
  "language_info": {
   "codemirror_mode": {
    "name": "ipython",
    "version": 3
   },
   "file_extension": ".py",
   "mimetype": "text/x-python",
   "name": "python",
   "nbconvert_exporter": "python",
   "pygments_lexer": "ipython3",
   "version": "3.11.5"
  }
 },
 "nbformat": 4,
 "nbformat_minor": 5
}
